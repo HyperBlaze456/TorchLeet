{
 "cells": [
  {
   "cell_type": "markdown",
   "metadata": {},
   "source": [
    "# 선형회귀 모델 구현\n",
    "### 문제\n",
    "간단한 PyTorch 기반 선형회귀 모델을 만들어보세요\n",
    "### 요구사항\n",
    "1. **모델 정의**:\n",
    "   - `LinearRegressionModel` 클래스를 정의하세요.\n",
    "      - 입력 feature x를 목표 변수 y로 매핑하는 단일 선형 레이어를 포함합니다.\n",
    "2. **순전파**:\n",
    "   - `forward` 구현해서 입력 데이터에 대한 예측값을 계산하세요."
   ]
  },
  {
   "cell_type": "code",
   "execution_count": 1,
   "metadata": {},
   "outputs": [],
   "source": [
    "import torch\n",
    "import torch.nn as nn\n",
    "import torch.optim as optim"
   ]
  },
  {
   "cell_type": "code",
   "execution_count": 5,
   "metadata": {},
   "outputs": [
    {
     "name": "stdout",
     "output_type": "stream",
     "text": [
      "Epoch [100/1000], Loss: 1.7379\n",
      "Epoch [200/1000], Loss: 1.0756\n",
      "Epoch [300/1000], Loss: 0.8215\n",
      "Epoch [400/1000], Loss: 0.7239\n",
      "Epoch [500/1000], Loss: 0.6865\n",
      "Epoch [600/1000], Loss: 0.6721\n",
      "Epoch [700/1000], Loss: 0.6666\n",
      "Epoch [800/1000], Loss: 0.6645\n",
      "Epoch [900/1000], Loss: 0.6637\n",
      "Epoch [1000/1000], Loss: 0.6634\n"
     ]
    }
   ],
   "source": [
    "# Generate synthetic data\n",
    "torch.manual_seed(42)\n",
    "X = torch.rand(100, 1) * 10  # 100 data points between 0 and 10\n",
    "y = 2 * X + 3 + torch.randn(100, 1)  # Linear relationship with noise\n",
    "\n",
    "# Define the Linear Regression Model\n",
    "#TODO: Add the layer and forward implementation\n",
    "class LinearRegressionModel(nn.Module):\n",
    "    def __init__(self):\n",
    "        super().__init__() # 꼭 먼저 nn.Module의 생성자를 호출해주세요.\n",
    "        self.weight = nn.Parameter(torch.randn(1), requires_grad = True) # learnable 한 nn.Parameter로 선언해야 합니다.\n",
    "        self.bias = nn.Parameter(torch.randn(1), requires_grad = True)\n",
    "    def forward(self, x):\n",
    "        # linear regression은 y=wx+b로, 단순한 일차방정식의 꼴입니다\n",
    "        return self.weight * x + self.bias\n",
    "\n",
    "# Initialize the model, loss function, and optimizer\n",
    "model = LinearRegressionModel()\n",
    "criterion = nn.MSELoss()\n",
    "optimizer = optim.SGD(model.parameters(), lr=0.01)\n",
    "\n",
    "# Training loop\n",
    "epochs = 1000\n",
    "for epoch in range(epochs):\n",
    "    # Forward pass\n",
    "    predictions = model(X)\n",
    "    loss = criterion(predictions, y)\n",
    "\n",
    "    # Backward pass and optimization\n",
    "    optimizer.zero_grad()\n",
    "    loss.backward()\n",
    "    optimizer.step()\n",
    "\n",
    "    # Log progress every 100 epochs\n",
    "    if (epoch + 1) % 100 == 0:\n",
    "        print(f\"Epoch [{epoch + 1}/{epochs}], Loss: {loss.item():.4f}\")"
   ]
  },
  {
   "cell_type": "code",
   "execution_count": null,
   "metadata": {},
   "outputs": [],
   "source": [
    "# Display the learned parameters\n",
    "[w, b] = model.linear.parameters()\n",
    "print(f\"Learned weight: {w.item():.4f}, Learned bias: {b.item():.4f}\")\n",
    "\n",
    "# Testing on new data\n",
    "X_test = torch.tensor([[4.0], [7.0]])\n",
    "with torch.no_grad():\n",
    "    predictions = model(X_test)\n",
    "    print(f\"Predictions for {X_test.tolist()}: {predictions.tolist()}\")"
   ]
  }
 ],
 "metadata": {
  "kernelspec": {
   "display_name": "lynn",
   "language": "python",
   "name": "python3"
  },
  "language_info": {
   "codemirror_mode": {
    "name": "ipython",
    "version": 3
   },
   "file_extension": ".py",
   "mimetype": "text/x-python",
   "name": "python",
   "nbconvert_exporter": "python",
   "pygments_lexer": "ipython3",
   "version": "3.11.9"
  }
 },
 "nbformat": 4,
 "nbformat_minor": 2
}
