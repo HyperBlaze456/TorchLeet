{
 "cells": [
  {
   "cell_type": "markdown",
   "metadata": {},
   "source": [
    "# 커스텀 데이터셋과 데이터로드를 활용해 CSV에서 훈련 데이터 불러오기\n",
    "\n",
    "### 문제 목표\n",
    "커스텀 데이터셋과 데이터로더를 파이토치로 구현해 주어진 `data.csv` 파일에서 데이터를 불러오는 것이 목표이다. 불러온 데이터는 이미 구현된 선형 회귀 모델을 실행하는데 사용될 것이다.\n",
    "\n",
    "### 요구사항\n",
    "1. **데이터셋 클래스**:\n",
    "   - 다음과 같은 `CustomDataset`를 구현한다:\n",
    "      - `data.csv` 파일에서 데이터를 읽는다.\n",
    "      - 특징(X)과 대상 값(Y)을 별도로 저장한다.\n",
    "      - 인덱싱을 위해 PyTorch의 `__len__` 및 `__getitem__` 메서드를 구현한다.\n",
    "\n",
    "   레퍼런스: https://pytorch.org/tutorials/beginner/basics/data_tutorial.html#creating-a-custom-dataset-for-your-files\n",
    "\n",
    "2. **데이터로더**:\n",
    "   - PyTorch의 `DataLoader`를 사용하여 데이터셋을 배치 단위로 반복 가능한 객체로 만든다.\n",
    "   - 사용자 정의 배치 크기와 데이터 셔플링을 지원한다.\n",
    "   \n",
    "   레퍼런스: https://pytorch.org/tutorials/beginner/basics/data_tutorial.html#preparing-your-data-for-training-with-dataloaders"
   ]
  },
  {
   "cell_type": "code",
   "execution_count": 16,
   "metadata": {},
   "outputs": [],
   "source": [
    "import torch\n",
    "import pandas as pd\n",
    "\n",
    "torch.manual_seed(42)\n",
    "X = torch.rand(100, 1) * 10  # 100 data points between 0 and 10\n",
    "y = 2 * X + 3 + torch.randn(100, 1)  # Linear relationship with noise\n",
    "\n",
    "# Save the generated data to data.csv\n",
    "data = torch.cat((X, y), dim=1)\n",
    "df = pd.DataFrame(data.numpy(), columns=['X', 'y'])\n",
    "df.to_csv('data.csv', index=False)"
   ]
  },
  {
   "cell_type": "code",
   "execution_count": 17,
   "metadata": {},
   "outputs": [],
   "source": [
    "import torch\n",
    "import torch.nn as nn\n",
    "import torch.optim as optim"
   ]
  },
  {
   "cell_type": "code",
   "execution_count": 20,
   "metadata": {},
   "outputs": [],
   "source": [
    "import torch\n",
    "from torch.utils.data import Dataset, DataLoader\n",
    "import pandas as pd\n",
    "\n",
    "# TODO: Add the missing code\n",
    "class LinearRegressionDataset(Dataset):\n",
    "    def __init__(self, csv_file):\n",
    "        self.data = pd.read_csv(csv_file)\n",
    "        self.x = torch.Tensor(self.data['X'].values).view(-1, 1) # 차원 방향을 바꿔야지 정상적으로 matmul이 가능합니다!\n",
    "        self.y = torch.Tensor(self.data['y'].values).view(-1, 1) \n",
    "    def __len__(self):\n",
    "        return len(self.data)\n",
    "    def __getitem__(self, idx):\n",
    "        return self.x[idx], self.y[idx]\n",
    "\n",
    "# Example usage of the DataLoader\n",
    "dataset = LinearRegressionDataset('data.csv')\n",
    "# TODO: Add the missing code\n",
    "dataloader = DataLoader(dataset, batch_size=16, shuffle=True)\n"
   ]
  },
  {
   "cell_type": "markdown",
   "metadata": {},
   "source": [
    "리드로써 해야 할 일:\n",
    "\n",
    "1. torch.tensor와 torch.Tensor의 차이 설명(https://chatgpt.com/c/6796db6f-1a50-8013-afe2-f19cdec38bb3)\n",
    "    - 일반인이라면 torch.tensor 쓰세요\n",
    "2. 차원 맞추는거 예제 설명\n",
    "3. 모델 nn.Module 상속으로 만드는거 설명."
   ]
  },
  {
   "cell_type": "code",
   "execution_count": 21,
   "metadata": {},
   "outputs": [
    {
     "name": "stdout",
     "output_type": "stream",
     "text": [
      "Epoch [100/1000], Loss: 1.5806\n",
      "Epoch [200/1000], Loss: 0.4760\n",
      "Epoch [300/1000], Loss: 1.3995\n",
      "Epoch [400/1000], Loss: 0.4694\n",
      "Epoch [500/1000], Loss: 0.5121\n",
      "Epoch [600/1000], Loss: 1.6720\n",
      "Epoch [700/1000], Loss: 1.2173\n",
      "Epoch [800/1000], Loss: 0.3319\n",
      "Epoch [900/1000], Loss: 0.6111\n",
      "Epoch [1000/1000], Loss: 1.6136\n"
     ]
    }
   ],
   "source": [
    "# Define the Linear Regression Model\n",
    "class LinearRegressionModel(nn.Module):\n",
    "    def __init__(self):\n",
    "        super(LinearRegressionModel, self).__init__()\n",
    "        self.linear = nn.Linear(1, 1)  # Single input and single output\n",
    "\n",
    "    def forward(self, x):\n",
    "        return self.linear(x)\n",
    "\n",
    "# Initialize the model, loss function, and optimizer\n",
    "model = LinearRegressionModel()\n",
    "criterion = nn.MSELoss()\n",
    "optimizer = optim.SGD(model.parameters(), lr=0.01)\n",
    "\n",
    "# Training loop\n",
    "epochs = 1000\n",
    "for epoch in range(epochs):\n",
    "    for batch_X, batch_y in dataloader:\n",
    "        # Forward pass\n",
    "        predictions = model(batch_X)\n",
    "        loss = criterion(predictions, batch_y)\n",
    "\n",
    "        # Backward pass and optimization\n",
    "        optimizer.zero_grad()\n",
    "        loss.backward()\n",
    "        optimizer.step()\n",
    "\n",
    "    # Log progress every 100 epochs\n",
    "    if (epoch + 1) % 100 == 0:\n",
    "        print(f\"Epoch [{epoch + 1}/{epochs}], Loss: {loss.item():.4f}\")\n"
   ]
  },
  {
   "cell_type": "code",
   "execution_count": 13,
   "metadata": {},
   "outputs": [
    {
     "name": "stdout",
     "output_type": "stream",
     "text": [
      "Learned weight: 1.9609, Learned bias: 3.2234\n",
      "Predictions for [[4.0], [7.0]]: [[11.067010879516602], [16.949682235717773]]\n"
     ]
    }
   ],
   "source": [
    "# Display the learned parameters\n",
    "[w, b] = model.linear.parameters()\n",
    "print(f\"Learned weight: {w.item():.4f}, Learned bias: {b.item():.4f}\")\n",
    "\n",
    "# Testing on new data\n",
    "X_test = torch.tensor([[4.0], [7.0]])\n",
    "with torch.no_grad():\n",
    "    predictions = model(X_test)\n",
    "    print(f\"Predictions for {X_test.tolist()}: {predictions.tolist()}\")"
   ]
  }
 ],
 "metadata": {
  "kernelspec": {
   "display_name": "Python 3",
   "language": "python",
   "name": "python3"
  },
  "language_info": {
   "codemirror_mode": {
    "name": "ipython",
    "version": 3
   },
   "file_extension": ".py",
   "mimetype": "text/x-python",
   "name": "python",
   "nbconvert_exporter": "python",
   "pygments_lexer": "ipython3",
   "version": "3.11.11"
  }
 },
 "nbformat": 4,
 "nbformat_minor": 2
}
